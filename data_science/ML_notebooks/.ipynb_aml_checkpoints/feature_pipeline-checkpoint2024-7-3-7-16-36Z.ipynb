{
  "cells": [
    {
      "cell_type": "code",
      "source": [
        "import numpy as np\n",
        "import pandas as pd"
      ],
      "outputs": [],
      "execution_count": 1,
      "metadata": {
        "gather": {
          "logged": 1722667685142
        }
      }
    },
    {
      "cell_type": "code",
      "source": [
        "\n",
        "# import mltable\n",
        "# from azure.ai.ml import MLClient\n",
        "# from azure.identity import DefaultAzureCredential\n",
        "\n",
        "# ml_client = MLClient.from_config(credential=DefaultAzureCredential())\n",
        "# data_asset = ml_client.data.get(\"Input_Data\", version=\"1\")\n",
        "\n",
        "# path = {\n",
        "#   'folder': data_asset.path\n",
        "# }\n",
        "\n",
        "# tbl = mltable.from_delimited_files(paths=[path])\n",
        "# df = tbl.to_pandas_dataframe()\n",
        "# df"
      ],
      "outputs": [],
      "execution_count": 5,
      "metadata": {
        "jupyter": {
          "source_hidden": false,
          "outputs_hidden": false
        },
        "nteract": {
          "transient": {
            "deleting": false
          }
        },
        "gather": {
          "logged": 1722669014891
        }
      }
    },
    {
      "cell_type": "code",
      "source": [
        "from azureml.core import Workspace, Dataset\n",
        "from azureml.core.authentication import InteractiveLoginAuthentication\n",
        "\n",
        "# Authenticate (you might need to follow a link and enter a code for authentication)\n",
        "interactive_auth = InteractiveLoginAuthentication()\n",
        "\n",
        "# Connect to your workspace\n",
        "ws = Workspace.from_config(auth=interactive_auth)"
      ],
      "outputs": [],
      "execution_count": 6,
      "metadata": {
        "jupyter": {
          "source_hidden": false,
          "outputs_hidden": false
        },
        "nteract": {
          "transient": {
            "deleting": false
          }
        },
        "gather": {
          "logged": 1722669023547
        }
      }
    },
    {
      "cell_type": "code",
      "source": [
        "from azureml.core import Workspace, Dataset, Datastore\n",
        "\n",
        "# Load the workspace configuration from the config.json file\n",
        "workspace = Workspace.from_config()\n",
        "\n",
        "# Get the datastore by name\n",
        "datastore = Datastore.get(workspace, \"workspaceblobstore\")\n",
        "\n",
        "# Load the dataset from the datastore\n",
        "train_dataset = Dataset.Tabular.from_delimited_files(path=(datastore, 'UI/2024-08-03_055751_UTC/Input_data/training_sample.csv'))\n",
        "\n",
        "# Convert the dataset to a Pandas DataFrame\n",
        "train_df = train_dataset.to_pandas_dataframe()\n",
        "\n",
        "# Display the first few rows of the dataframe\n",
        "print(train_df.head())\n"
      ],
      "outputs": [
        {
          "output_type": "stream",
          "name": "stdout",
          "text": "{'infer_column_types': 'False', 'activity': 'to_pandas_dataframe'}\n{'infer_column_types': 'False', 'activity': 'to_pandas_dataframe', 'activityApp': 'TabularDataset'}\n                                UserID  basket_icon_click  basket_add_list  \\\n0  a720-6b732349-a720-4862-bd21-644732              False            False   \n1  a0c0-6b73247c-a0c0-4bd9-8baa-797356              False            False   \n2  86a8-6b735c67-86a8-407b-ba24-333055              False            False   \n3  6a3d-6b736346-6a3d-4085-934b-396834              False            False   \n4  b74a-6b737717-b74a-45c3-8c6a-421140              False             True   \n\n   basket_add_detail  sort_by  image_picker  account_page_click  \\\n0              False    False         False               False   \n1              False    False         False               False   \n2              False    False         False               False   \n3              False    False         False               False   \n4              False     True         False               False   \n\n   promo_banner_click  detail_wishlist_add  list_size_dropdown  ...  \\\n0               False                False               False  ...   \n1               False                False               False  ...   \n2               False                False               False  ...   \n3               False                False               False  ...   \n4               False                False                True  ...   \n\n   saw_sizecharts  saw_delivery  saw_account_upgrade  saw_homepage  \\\n0           False         False                False         False   \n1           False         False                False         False   \n2           False         False                False         False   \n3           False         False                False         False   \n4           False         False                False          True   \n\n   device_mobile  device_computer  device_tablet  returning_user  loc_uk  \\\n0           True            False          False           False    True   \n1           True            False          False           False    True   \n2           True            False          False            True    True   \n3           True            False          False            True    True   \n4          False            False           True           False    True   \n\n   ordered  \n0    False  \n1    False  \n2    False  \n3    False  \n4     True  \n\n[5 rows x 25 columns]\n"
        }
      ],
      "execution_count": 11,
      "metadata": {
        "jupyter": {
          "source_hidden": false,
          "outputs_hidden": false
        },
        "nteract": {
          "transient": {
            "deleting": false
          }
        },
        "gather": {
          "logged": 1722669279827
        }
      }
    },
    {
      "cell_type": "code",
      "source": [],
      "outputs": [],
      "execution_count": null,
      "metadata": {
        "jupyter": {
          "source_hidden": false,
          "outputs_hidden": false
        },
        "nteract": {
          "transient": {
            "deleting": false
          }
        }
      }
    }
  ],
  "metadata": {
    "kernelspec": {
      "name": "python310-sdkv2",
      "language": "python",
      "display_name": "Python 3.10 - SDK v2"
    },
    "language_info": {
      "name": "python",
      "version": "3.10.14",
      "mimetype": "text/x-python",
      "codemirror_mode": {
        "name": "ipython",
        "version": 3
      },
      "pygments_lexer": "ipython3",
      "nbconvert_exporter": "python",
      "file_extension": ".py"
    },
    "microsoft": {
      "ms_spell_check": {
        "ms_spell_check_language": "en"
      },
      "host": {
        "AzureML": {
          "notebookHasBeenCompleted": true
        }
      }
    },
    "kernel_info": {
      "name": "python310-sdkv2"
    },
    "nteract": {
      "version": "nteract-front-end@1.0.0"
    }
  },
  "nbformat": 4,
  "nbformat_minor": 2
}