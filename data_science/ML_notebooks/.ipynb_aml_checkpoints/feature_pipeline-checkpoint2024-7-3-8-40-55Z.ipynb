{
  "cells": [
    {
      "cell_type": "code",
      "source": [
        "import numpy as np\n",
        "import pandas as pd"
      ],
      "outputs": [],
      "execution_count": 1,
      "metadata": {
        "gather": {
          "logged": 1722667685142
        }
      }
    },
    {
      "cell_type": "code",
      "source": [
        "from azureml.core import Workspace, Dataset\n",
        "from azureml.core.authentication import InteractiveLoginAuthentication\n",
        "\n",
        "# Authenticate (you might need to follow a link and enter a code for authentication)\n",
        "interactive_auth = InteractiveLoginAuthentication()\n",
        "\n",
        "# Connect to your workspace\n",
        "ws = Workspace.from_config(auth=interactive_auth)"
      ],
      "outputs": [
        {
          "output_type": "stream",
          "name": "stdout",
          "text": "Performing interactive authentication. Please follow the instructions on the terminal.\n"
        },
        {
          "output_type": "stream",
          "name": "stderr",
          "text": "To sign in, use a web browser to open the page https://microsoft.com/devicelogin and enter the code IVG66NN5D to authenticate.\n"
        },
        {
          "output_type": "error",
          "ename": "AzureMLException",
          "evalue": "AzureMLException:\n\tMessage: No subscriptions found for abhay50300@gmail.com.\n\tInnerException None\n\tErrorResponse \n{\n    \"error\": {\n        \"message\": \"No subscriptions found for abhay50300@gmail.com.\"\n    }\n}",
          "traceback": [
            "\u001b[0;31m---------------------------------------------------------------------------\u001b[0m",
            "\u001b[0;31mAzureMLException\u001b[0m                          Traceback (most recent call last)",
            "Cell \u001b[0;32mIn[6], line 5\u001b[0m\n\u001b[1;32m      2\u001b[0m \u001b[38;5;28;01mfrom\u001b[39;00m \u001b[38;5;21;01mazureml\u001b[39;00m\u001b[38;5;21;01m.\u001b[39;00m\u001b[38;5;21;01mcore\u001b[39;00m\u001b[38;5;21;01m.\u001b[39;00m\u001b[38;5;21;01mauthentication\u001b[39;00m \u001b[38;5;28;01mimport\u001b[39;00m InteractiveLoginAuthentication\n\u001b[1;32m      4\u001b[0m \u001b[38;5;66;03m# Authenticate (you might need to follow a link and enter a code for authentication)\u001b[39;00m\n\u001b[0;32m----> 5\u001b[0m interactive_auth \u001b[38;5;241m=\u001b[39m \u001b[43mInteractiveLoginAuthentication\u001b[49m\u001b[43m(\u001b[49m\u001b[43m)\u001b[49m\n\u001b[1;32m      7\u001b[0m \u001b[38;5;66;03m# Connect to your workspace\u001b[39;00m\n\u001b[1;32m      8\u001b[0m ws \u001b[38;5;241m=\u001b[39m Workspace\u001b[38;5;241m.\u001b[39mfrom_config(auth\u001b[38;5;241m=\u001b[39minteractive_auth)\n",
            "File \u001b[0;32m/anaconda/envs/azureml_py310_sdkv2/lib/python3.10/site-packages/azureml/core/authentication.py:571\u001b[0m, in \u001b[0;36mInteractiveLoginAuthentication.__init__\u001b[0;34m(self, force, tenant_id, cloud)\u001b[0m\n\u001b[1;32m    568\u001b[0m \u001b[38;5;28;01mif\u001b[39;00m need_to_login:\n\u001b[1;32m    569\u001b[0m     \u001b[38;5;28mprint\u001b[39m(\u001b[38;5;124m\"\u001b[39m\u001b[38;5;124mPerforming interactive authentication. Please follow the instructions \u001b[39m\u001b[38;5;124m\"\u001b[39m\n\u001b[1;32m    570\u001b[0m           \u001b[38;5;124m\"\u001b[39m\u001b[38;5;124mon the terminal.\u001b[39m\u001b[38;5;124m\"\u001b[39m)\n\u001b[0;32m--> 571\u001b[0m     \u001b[43mperform_interactive_login\u001b[49m\u001b[43m(\u001b[49m\u001b[43mtenant\u001b[49m\u001b[38;5;241;43m=\u001b[39;49m\u001b[43mtenant_id\u001b[49m\u001b[43m,\u001b[49m\u001b[43m \u001b[49m\u001b[43mcloud_type\u001b[49m\u001b[38;5;241;43m=\u001b[39;49m\u001b[38;5;28;43mself\u001b[39;49m\u001b[38;5;241;43m.\u001b[39;49m\u001b[43m_cloud_type\u001b[49m\u001b[43m)\u001b[49m\n\u001b[1;32m    572\u001b[0m     \u001b[38;5;28mprint\u001b[39m(\u001b[38;5;124m\"\u001b[39m\u001b[38;5;124mInteractive authentication successfully completed.\u001b[39m\u001b[38;5;124m\"\u001b[39m)\n",
            "File \u001b[0;32m/anaconda/envs/azureml_py310_sdkv2/lib/python3.10/site-packages/azureml/_base_sdk_common/common.py:576\u001b[0m, in \u001b[0;36mperform_interactive_login\u001b[0;34m(username, password, service_principal, tenant, allow_no_subscriptions, identity, use_device_code, use_cert_sn_issuer, cloud_type)\u001b[0m\n\u001b[1;32m    574\u001b[0m credential \u001b[38;5;241m=\u001b[39m ServicePrincipalAuth\u001b[38;5;241m.\u001b[39mbuild_credential(secret_or_certificate\u001b[38;5;241m=\u001b[39mpassword)\n\u001b[1;32m    575\u001b[0m \u001b[38;5;28;01mtry\u001b[39;00m:\n\u001b[0;32m--> 576\u001b[0m     subscriptions \u001b[38;5;241m=\u001b[39m \u001b[43mprofile\u001b[49m\u001b[38;5;241;43m.\u001b[39;49m\u001b[43mlogin\u001b[49m\u001b[43m(\u001b[49m\n\u001b[1;32m    577\u001b[0m \u001b[43m        \u001b[49m\u001b[43minteractive\u001b[49m\u001b[43m,\u001b[49m\n\u001b[1;32m    578\u001b[0m \u001b[43m        \u001b[49m\u001b[43musername\u001b[49m\u001b[43m,\u001b[49m\n\u001b[1;32m    579\u001b[0m \u001b[43m        \u001b[49m\u001b[43mcredential\u001b[49m\u001b[43m,\u001b[49m\n\u001b[1;32m    580\u001b[0m \u001b[43m        \u001b[49m\u001b[43mservice_principal\u001b[49m\u001b[43m,\u001b[49m\n\u001b[1;32m    581\u001b[0m \u001b[43m        \u001b[49m\u001b[43mtenant\u001b[49m\u001b[43m,\u001b[49m\n\u001b[1;32m    582\u001b[0m \u001b[43m        \u001b[49m\u001b[43muse_device_code\u001b[49m\u001b[38;5;241;43m=\u001b[39;49m\u001b[43muse_device_code\u001b[49m\u001b[43m,\u001b[49m\n\u001b[1;32m    583\u001b[0m \u001b[43m        \u001b[49m\u001b[43mallow_no_subscriptions\u001b[49m\u001b[38;5;241;43m=\u001b[39;49m\u001b[43mallow_no_subscriptions\u001b[49m\u001b[43m,\u001b[49m\n\u001b[1;32m    584\u001b[0m \u001b[43m        \u001b[49m\u001b[43muse_cert_sn_issuer\u001b[49m\u001b[38;5;241;43m=\u001b[39;49m\u001b[43muse_cert_sn_issuer\u001b[49m\u001b[43m)\u001b[49m\n\u001b[1;32m    585\u001b[0m \u001b[38;5;28;01mexcept\u001b[39;00m MsalError \u001b[38;5;28;01mas\u001b[39;00m err:\n\u001b[1;32m    586\u001b[0m     \u001b[38;5;66;03m# try polish unfriendly server errors\u001b[39;00m\n\u001b[1;32m    587\u001b[0m     \u001b[38;5;28;01mif\u001b[39;00m username:\n",
            "File \u001b[0;32m/anaconda/envs/azureml_py310_sdkv2/lib/python3.10/site-packages/azureml/_vendor/azure_cli_core/_profile.py:180\u001b[0m, in \u001b[0;36mProfile.login\u001b[0;34m(self, interactive, username, password, is_service_principal, tenant, scopes, use_device_code, allow_no_subscriptions, use_cert_sn_issuer, **kwargs)\u001b[0m\n\u001b[1;32m    177\u001b[0m     subscriptions \u001b[38;5;241m=\u001b[39m subscription_finder\u001b[38;5;241m.\u001b[39mfind_using_common_tenant(username, credential)\n\u001b[1;32m    179\u001b[0m \u001b[38;5;28;01mif\u001b[39;00m \u001b[38;5;129;01mnot\u001b[39;00m subscriptions \u001b[38;5;129;01mand\u001b[39;00m \u001b[38;5;129;01mnot\u001b[39;00m allow_no_subscriptions:\n\u001b[0;32m--> 180\u001b[0m     \u001b[38;5;28;01mraise\u001b[39;00m AzureMLException(\u001b[38;5;124m\"\u001b[39m\u001b[38;5;124mNo subscriptions found for \u001b[39m\u001b[38;5;132;01m{}\u001b[39;00m\u001b[38;5;124m.\u001b[39m\u001b[38;5;124m\"\u001b[39m\u001b[38;5;241m.\u001b[39mformat(username))\n\u001b[1;32m    182\u001b[0m \u001b[38;5;28;01mif\u001b[39;00m allow_no_subscriptions:\n\u001b[1;32m    183\u001b[0m     t_list \u001b[38;5;241m=\u001b[39m [s\u001b[38;5;241m.\u001b[39mtenant_id \u001b[38;5;28;01mfor\u001b[39;00m s \u001b[38;5;129;01min\u001b[39;00m subscriptions]\n",
            "\u001b[0;31mAzureMLException\u001b[0m: AzureMLException:\n\tMessage: No subscriptions found for abhay50300@gmail.com.\n\tInnerException None\n\tErrorResponse \n{\n    \"error\": {\n        \"message\": \"No subscriptions found for abhay50300@gmail.com.\"\n    }\n}"
          ]
        }
      ],
      "execution_count": 6,
      "metadata": {
        "jupyter": {
          "source_hidden": false,
          "outputs_hidden": false
        },
        "nteract": {
          "transient": {
            "deleting": false
          }
        },
        "gather": {
          "logged": 1722670234126
        }
      }
    },
    {
      "cell_type": "code",
      "source": [
        "from azureml.core import Workspace, Dataset, Datastore\n",
        "\n",
        "# Load the workspace configuration from the config.json file\n",
        "workspace = Workspace.from_config()\n",
        "\n",
        "# Get the datastore by name\n",
        "datastore = Datastore.get(workspace, \"workspaceblobstore\")\n",
        "\n",
        "# Load the dataset from the datastore\n",
        "train_dataset = Dataset.Tabular.from_delimited_files(path=(datastore, 'UI/2024-08-03_055751_UTC/Input_data/training_sample.csv'))\n",
        "\n",
        "# Convert the dataset to a Pandas DataFrame\n",
        "train_df = train_dataset.to_pandas_dataframe()\n",
        "\n",
        "# Display the first few rows of the dataframe\n",
        "print(train_df.head())\n"
      ],
      "outputs": [],
      "execution_count": null,
      "metadata": {
        "jupyter": {
          "source_hidden": false,
          "outputs_hidden": false
        },
        "nteract": {
          "transient": {
            "deleting": false
          }
        },
        "gather": {
          "logged": 1722670234213
        }
      }
    },
    {
      "cell_type": "code",
      "source": [
        "train_df.head()"
      ],
      "outputs": [
        {
          "output_type": "error",
          "ename": "NameError",
          "evalue": "name 'train_df' is not defined",
          "traceback": [
            "\u001b[0;31m---------------------------------------------------------------------------\u001b[0m",
            "\u001b[0;31mNameError\u001b[0m                                 Traceback (most recent call last)",
            "Cell \u001b[0;32mIn[5], line 1\u001b[0m\n\u001b[0;32m----> 1\u001b[0m \u001b[43mtrain_df\u001b[49m\u001b[38;5;241m.\u001b[39mhead()\n",
            "\u001b[0;31mNameError\u001b[0m: name 'train_df' is not defined"
          ]
        }
      ],
      "execution_count": 5,
      "metadata": {
        "jupyter": {
          "source_hidden": false,
          "outputs_hidden": false
        },
        "nteract": {
          "transient": {
            "deleting": false
          }
        },
        "gather": {
          "logged": 1722669979809
        }
      }
    },
    {
      "cell_type": "code",
      "source": [],
      "outputs": [],
      "execution_count": null,
      "metadata": {
        "jupyter": {
          "source_hidden": false,
          "outputs_hidden": false
        },
        "nteract": {
          "transient": {
            "deleting": false
          }
        }
      }
    }
  ],
  "metadata": {
    "kernelspec": {
      "name": "python310-sdkv2",
      "language": "python",
      "display_name": "Python 3.10 - SDK v2"
    },
    "language_info": {
      "name": "python",
      "version": "3.10.14",
      "mimetype": "text/x-python",
      "codemirror_mode": {
        "name": "ipython",
        "version": 3
      },
      "pygments_lexer": "ipython3",
      "nbconvert_exporter": "python",
      "file_extension": ".py"
    },
    "microsoft": {
      "ms_spell_check": {
        "ms_spell_check_language": "en"
      },
      "host": {
        "AzureML": {
          "notebookHasBeenCompleted": true
        }
      }
    },
    "kernel_info": {
      "name": "python310-sdkv2"
    },
    "nteract": {
      "version": "nteract-front-end@1.0.0"
    }
  },
  "nbformat": 4,
  "nbformat_minor": 2
}