{
  "cells": [
    {
      "cell_type": "markdown",
      "source": [
        "### Import dependencies"
      ],
      "metadata": {
        "nteract": {
          "transient": {
            "deleting": false
          }
        }
      }
    },
    {
      "cell_type": "code",
      "source": [
        "import numpy as np\n",
        "import pandas as pd\n",
        "from azureml.core import Workspace"
      ],
      "outputs": [],
      "execution_count": 1,
      "metadata": {
        "gather": {
          "logged": 1722784651478
        }
      }
    },
    {
      "cell_type": "markdown",
      "source": [
        "### Load Train and Test Data"
      ],
      "metadata": {
        "nteract": {
          "transient": {
            "deleting": false
          }
        }
      }
    },
    {
      "cell_type": "code",
      "source": [
        "#Load Secrets from key-vault \n",
        "keyVaultName = \"mlops-with-azure\"\n",
        "KVUri = f\"https://mlops-with-azure.vault.azure.net\""
      ],
      "outputs": [],
      "execution_count": 2,
      "metadata": {
        "jupyter": {
          "source_hidden": false,
          "outputs_hidden": false
        },
        "nteract": {
          "transient": {
            "deleting": false
          }
        },
        "gather": {
          "logged": 1722784651604
        }
      }
    },
    {
      "cell_type": "code",
      "source": [
        "from azure.identity import DefaultAzureCredential\n",
        "from azure.keyvault.secrets import SecretClient\n",
        "\n",
        "credential = DefaultAzureCredential()\n",
        "KVUri = f\"https://mlops-with-azure.vault.azure.net\"\n",
        "\n",
        "secret_client = SecretClient(vault_url=KVUri, credential=credential)\n",
        "secret = secret_client.get_secret(\"model-train-path\")\n",
        "\n",
        "print(secret.name)\n",
        "model_train_path = secret.value"
      ],
      "outputs": [
        {
          "output_type": "stream",
          "name": "stdout",
          "text": "model-train-path\n"
        }
      ],
      "execution_count": 5,
      "metadata": {
        "jupyter": {
          "source_hidden": false,
          "outputs_hidden": false
        },
        "nteract": {
          "transient": {
            "deleting": false
          }
        },
        "gather": {
          "logged": 1722784875898
        }
      }
    },
    {
      "cell_type": "code",
      "source": [
        "df_train = pd.read_csv(model_train_path)\n",
        "df_train.head()"
      ],
      "outputs": [
        {
          "output_type": "execute_result",
          "execution_count": 6,
          "data": {
            "text/plain": "                                UserID  basket_icon_click  basket_add_list  \\\n0  a720-6b732349-a720-4862-bd21-644732                  0                0   \n1  a0c0-6b73247c-a0c0-4bd9-8baa-797356                  0                0   \n2  86a8-6b735c67-86a8-407b-ba24-333055                  0                0   \n3  6a3d-6b736346-6a3d-4085-934b-396834                  0                0   \n4  b74a-6b737717-b74a-45c3-8c6a-421140                  0                1   \n\n   basket_add_detail  sort_by  image_picker  account_page_click  \\\n0                  0        0             0                   0   \n1                  0        0             0                   0   \n2                  0        0             0                   0   \n3                  0        0             0                   0   \n4                  0        1             0                   0   \n\n   promo_banner_click  detail_wishlist_add  list_size_dropdown  ...  \\\n0                   0                    0                   0  ...   \n1                   0                    0                   0  ...   \n2                   0                    0                   0  ...   \n3                   0                    0                   0  ...   \n4                   0                    0                   1  ...   \n\n   saw_sizecharts  saw_delivery  saw_account_upgrade  saw_homepage  \\\n0               0             0                    0             0   \n1               0             0                    0             0   \n2               0             0                    0             0   \n3               0             0                    0             0   \n4               0             0                    0             1   \n\n   device_mobile  device_computer  device_tablet  returning_user  loc_uk  \\\n0              1                0              0               0       1   \n1              1                0              0               0       1   \n2              1                0              0               1       1   \n3              1                0              0               1       1   \n4              0                0              1               0       1   \n\n   ordered  \n0        0  \n1        0  \n2        0  \n3        0  \n4        1  \n\n[5 rows x 25 columns]",
            "text/html": "<div>\n<style scoped>\n    .dataframe tbody tr th:only-of-type {\n        vertical-align: middle;\n    }\n\n    .dataframe tbody tr th {\n        vertical-align: top;\n    }\n\n    .dataframe thead th {\n        text-align: right;\n    }\n</style>\n<table border=\"1\" class=\"dataframe\">\n  <thead>\n    <tr style=\"text-align: right;\">\n      <th></th>\n      <th>UserID</th>\n      <th>basket_icon_click</th>\n      <th>basket_add_list</th>\n      <th>basket_add_detail</th>\n      <th>sort_by</th>\n      <th>image_picker</th>\n      <th>account_page_click</th>\n      <th>promo_banner_click</th>\n      <th>detail_wishlist_add</th>\n      <th>list_size_dropdown</th>\n      <th>...</th>\n      <th>saw_sizecharts</th>\n      <th>saw_delivery</th>\n      <th>saw_account_upgrade</th>\n      <th>saw_homepage</th>\n      <th>device_mobile</th>\n      <th>device_computer</th>\n      <th>device_tablet</th>\n      <th>returning_user</th>\n      <th>loc_uk</th>\n      <th>ordered</th>\n    </tr>\n  </thead>\n  <tbody>\n    <tr>\n      <th>0</th>\n      <td>a720-6b732349-a720-4862-bd21-644732</td>\n      <td>0</td>\n      <td>0</td>\n      <td>0</td>\n      <td>0</td>\n      <td>0</td>\n      <td>0</td>\n      <td>0</td>\n      <td>0</td>\n      <td>0</td>\n      <td>...</td>\n      <td>0</td>\n      <td>0</td>\n      <td>0</td>\n      <td>0</td>\n      <td>1</td>\n      <td>0</td>\n      <td>0</td>\n      <td>0</td>\n      <td>1</td>\n      <td>0</td>\n    </tr>\n    <tr>\n      <th>1</th>\n      <td>a0c0-6b73247c-a0c0-4bd9-8baa-797356</td>\n      <td>0</td>\n      <td>0</td>\n      <td>0</td>\n      <td>0</td>\n      <td>0</td>\n      <td>0</td>\n      <td>0</td>\n      <td>0</td>\n      <td>0</td>\n      <td>...</td>\n      <td>0</td>\n      <td>0</td>\n      <td>0</td>\n      <td>0</td>\n      <td>1</td>\n      <td>0</td>\n      <td>0</td>\n      <td>0</td>\n      <td>1</td>\n      <td>0</td>\n    </tr>\n    <tr>\n      <th>2</th>\n      <td>86a8-6b735c67-86a8-407b-ba24-333055</td>\n      <td>0</td>\n      <td>0</td>\n      <td>0</td>\n      <td>0</td>\n      <td>0</td>\n      <td>0</td>\n      <td>0</td>\n      <td>0</td>\n      <td>0</td>\n      <td>...</td>\n      <td>0</td>\n      <td>0</td>\n      <td>0</td>\n      <td>0</td>\n      <td>1</td>\n      <td>0</td>\n      <td>0</td>\n      <td>1</td>\n      <td>1</td>\n      <td>0</td>\n    </tr>\n    <tr>\n      <th>3</th>\n      <td>6a3d-6b736346-6a3d-4085-934b-396834</td>\n      <td>0</td>\n      <td>0</td>\n      <td>0</td>\n      <td>0</td>\n      <td>0</td>\n      <td>0</td>\n      <td>0</td>\n      <td>0</td>\n      <td>0</td>\n      <td>...</td>\n      <td>0</td>\n      <td>0</td>\n      <td>0</td>\n      <td>0</td>\n      <td>1</td>\n      <td>0</td>\n      <td>0</td>\n      <td>1</td>\n      <td>1</td>\n      <td>0</td>\n    </tr>\n    <tr>\n      <th>4</th>\n      <td>b74a-6b737717-b74a-45c3-8c6a-421140</td>\n      <td>0</td>\n      <td>1</td>\n      <td>0</td>\n      <td>1</td>\n      <td>0</td>\n      <td>0</td>\n      <td>0</td>\n      <td>0</td>\n      <td>1</td>\n      <td>...</td>\n      <td>0</td>\n      <td>0</td>\n      <td>0</td>\n      <td>1</td>\n      <td>0</td>\n      <td>0</td>\n      <td>1</td>\n      <td>0</td>\n      <td>1</td>\n      <td>1</td>\n    </tr>\n  </tbody>\n</table>\n<p>5 rows × 25 columns</p>\n</div>"
          },
          "metadata": {}
        }
      ],
      "execution_count": 6,
      "metadata": {
        "jupyter": {
          "source_hidden": false,
          "outputs_hidden": false
        },
        "nteract": {
          "transient": {
            "deleting": false
          }
        },
        "gather": {
          "logged": 1722784884501
        }
      }
    },
    {
      "cell_type": "code",
      "source": [
        "credential = DefaultAzureCredential()\n",
        "KVUri = f\"https://mlops-with-azure.vault.azure.net\"\n",
        "\n",
        "secret_client = SecretClient(vault_url=KVUri, credential=credential)\n",
        "secret = secret_client.get_secret(\"model-test-path\")\n",
        "\n",
        "print(secret.name)\n",
        "model_test_path = secret.value\n",
        "\n",
        "\n",
        "df_test = pd.read_csv(model_test_path)\n",
        "df_test.head()"
      ],
      "outputs": [
        {
          "output_type": "stream",
          "name": "stdout",
          "text": "model-test-path\n"
        },
        {
          "output_type": "execute_result",
          "execution_count": 7,
          "data": {
            "text/plain": "                                UserID  basket_icon_click  basket_add_list  \\\n0  9d24-25k4-47889d24-25k4-494b-398124                  0                0   \n1  7732-1k58-47887732-1k58-4475-679678                  0                0   \n2  94k2-632j-471394k2-632j-4b4j-228160                  0                0   \n3  jdd8-419d-4714jdd8-419d-4198-674376                  0                0   \n4  7473-7595-47147473-7595-4757-227547                  0                0   \n\n   basket_add_detail  sort_by  image_picker  account_page_click  \\\n0                  0        0             0                   0   \n1                  0        0             0                   0   \n2                  0        0             0                   0   \n3                  1        0             0                   0   \n4                  0        0             0                   0   \n\n   promo_banner_click  detail_wishlist_add  list_size_dropdown  ...  \\\n0                   0                    0                   0  ...   \n1                   0                    0                   0  ...   \n2                   0                    0                   0  ...   \n3                   0                    0                   0  ...   \n4                   0                    0                   0  ...   \n\n   saw_sizecharts  saw_delivery  saw_account_upgrade  saw_homepage  \\\n0               0             0                    0             0   \n1               0             0                    0             0   \n2               0             0                    0             0   \n3               0             0                    0             0   \n4               0             0                    0             0   \n\n   device_mobile  device_computer  device_tablet  returning_user  loc_uk  \\\n0              1                0              0               0       1   \n1              1                0              0               0       1   \n2              1                0              0               0       1   \n3              1                0              0               0       1   \n4              1                0              0               0       1   \n\n   ordered  \n0        0  \n1        0  \n2        0  \n3        0  \n4        0  \n\n[5 rows x 25 columns]",
            "text/html": "<div>\n<style scoped>\n    .dataframe tbody tr th:only-of-type {\n        vertical-align: middle;\n    }\n\n    .dataframe tbody tr th {\n        vertical-align: top;\n    }\n\n    .dataframe thead th {\n        text-align: right;\n    }\n</style>\n<table border=\"1\" class=\"dataframe\">\n  <thead>\n    <tr style=\"text-align: right;\">\n      <th></th>\n      <th>UserID</th>\n      <th>basket_icon_click</th>\n      <th>basket_add_list</th>\n      <th>basket_add_detail</th>\n      <th>sort_by</th>\n      <th>image_picker</th>\n      <th>account_page_click</th>\n      <th>promo_banner_click</th>\n      <th>detail_wishlist_add</th>\n      <th>list_size_dropdown</th>\n      <th>...</th>\n      <th>saw_sizecharts</th>\n      <th>saw_delivery</th>\n      <th>saw_account_upgrade</th>\n      <th>saw_homepage</th>\n      <th>device_mobile</th>\n      <th>device_computer</th>\n      <th>device_tablet</th>\n      <th>returning_user</th>\n      <th>loc_uk</th>\n      <th>ordered</th>\n    </tr>\n  </thead>\n  <tbody>\n    <tr>\n      <th>0</th>\n      <td>9d24-25k4-47889d24-25k4-494b-398124</td>\n      <td>0</td>\n      <td>0</td>\n      <td>0</td>\n      <td>0</td>\n      <td>0</td>\n      <td>0</td>\n      <td>0</td>\n      <td>0</td>\n      <td>0</td>\n      <td>...</td>\n      <td>0</td>\n      <td>0</td>\n      <td>0</td>\n      <td>0</td>\n      <td>1</td>\n      <td>0</td>\n      <td>0</td>\n      <td>0</td>\n      <td>1</td>\n      <td>0</td>\n    </tr>\n    <tr>\n      <th>1</th>\n      <td>7732-1k58-47887732-1k58-4475-679678</td>\n      <td>0</td>\n      <td>0</td>\n      <td>0</td>\n      <td>0</td>\n      <td>0</td>\n      <td>0</td>\n      <td>0</td>\n      <td>0</td>\n      <td>0</td>\n      <td>...</td>\n      <td>0</td>\n      <td>0</td>\n      <td>0</td>\n      <td>0</td>\n      <td>1</td>\n      <td>0</td>\n      <td>0</td>\n      <td>0</td>\n      <td>1</td>\n      <td>0</td>\n    </tr>\n    <tr>\n      <th>2</th>\n      <td>94k2-632j-471394k2-632j-4b4j-228160</td>\n      <td>0</td>\n      <td>0</td>\n      <td>0</td>\n      <td>0</td>\n      <td>0</td>\n      <td>0</td>\n      <td>0</td>\n      <td>0</td>\n      <td>0</td>\n      <td>...</td>\n      <td>0</td>\n      <td>0</td>\n      <td>0</td>\n      <td>0</td>\n      <td>1</td>\n      <td>0</td>\n      <td>0</td>\n      <td>0</td>\n      <td>1</td>\n      <td>0</td>\n    </tr>\n    <tr>\n      <th>3</th>\n      <td>jdd8-419d-4714jdd8-419d-4198-674376</td>\n      <td>0</td>\n      <td>0</td>\n      <td>1</td>\n      <td>0</td>\n      <td>0</td>\n      <td>0</td>\n      <td>0</td>\n      <td>0</td>\n      <td>0</td>\n      <td>...</td>\n      <td>0</td>\n      <td>0</td>\n      <td>0</td>\n      <td>0</td>\n      <td>1</td>\n      <td>0</td>\n      <td>0</td>\n      <td>0</td>\n      <td>1</td>\n      <td>0</td>\n    </tr>\n    <tr>\n      <th>4</th>\n      <td>7473-7595-47147473-7595-4757-227547</td>\n      <td>0</td>\n      <td>0</td>\n      <td>0</td>\n      <td>0</td>\n      <td>0</td>\n      <td>0</td>\n      <td>0</td>\n      <td>0</td>\n      <td>0</td>\n      <td>...</td>\n      <td>0</td>\n      <td>0</td>\n      <td>0</td>\n      <td>0</td>\n      <td>1</td>\n      <td>0</td>\n      <td>0</td>\n      <td>0</td>\n      <td>1</td>\n      <td>0</td>\n    </tr>\n  </tbody>\n</table>\n<p>5 rows × 25 columns</p>\n</div>"
          },
          "metadata": {}
        }
      ],
      "execution_count": 7,
      "metadata": {
        "gather": {
          "logged": 1722784946402
        },
        "jupyter": {
          "outputs_hidden": false,
          "source_hidden": false
        },
        "nteract": {
          "transient": {
            "deleting": false
          }
        }
      }
    },
    {
      "cell_type": "markdown",
      "source": [
        "### Check for Basic data checks"
      ],
      "metadata": {
        "nteract": {
          "transient": {
            "deleting": false
          }
        }
      }
    },
    {
      "cell_type": "code",
      "source": [
        "print(df_train.shape)\n",
        "print('')\n",
        "print(df_test.shape)"
      ],
      "outputs": [
        {
          "output_type": "stream",
          "name": "stdout",
          "text": "(455401, 25)\n\n(151655, 25)\n"
        }
      ],
      "execution_count": 8,
      "metadata": {
        "jupyter": {
          "source_hidden": false,
          "outputs_hidden": false
        },
        "nteract": {
          "transient": {
            "deleting": false
          }
        },
        "gather": {
          "logged": 1722785014281
        }
      }
    },
    {
      "cell_type": "code",
      "source": [
        "#Variable info\n",
        "print(df_train.info())"
      ],
      "outputs": [
        {
          "output_type": "stream",
          "name": "stdout",
          "text": "<class 'pandas.core.frame.DataFrame'>\nRangeIndex: 455401 entries, 0 to 455400\nData columns (total 25 columns):\n #   Column                   Non-Null Count   Dtype \n---  ------                   --------------   ----- \n 0   UserID                   455401 non-null  object\n 1   basket_icon_click        455401 non-null  int64 \n 2   basket_add_list          455401 non-null  int64 \n 3   basket_add_detail        455401 non-null  int64 \n 4   sort_by                  455401 non-null  int64 \n 5   image_picker             455401 non-null  int64 \n 6   account_page_click       455401 non-null  int64 \n 7   promo_banner_click       455401 non-null  int64 \n 8   detail_wishlist_add      455401 non-null  int64 \n 9   list_size_dropdown       455401 non-null  int64 \n 10  closed_minibasket_click  455401 non-null  int64 \n 11  checked_delivery_detail  455401 non-null  int64 \n 12  checked_returns_detail   455401 non-null  int64 \n 13  sign_in                  455401 non-null  int64 \n 14  saw_checkout             455401 non-null  int64 \n 15  saw_sizecharts           455401 non-null  int64 \n 16  saw_delivery             455401 non-null  int64 \n 17  saw_account_upgrade      455401 non-null  int64 \n 18  saw_homepage             455401 non-null  int64 \n 19  device_mobile            455401 non-null  int64 \n 20  device_computer          455401 non-null  int64 \n 21  device_tablet            455401 non-null  int64 \n 22  returning_user           455401 non-null  int64 \n 23  loc_uk                   455401 non-null  int64 \n 24  ordered                  455401 non-null  int64 \ndtypes: int64(24), object(1)\nmemory usage: 86.9+ MB\nNone\n"
        }
      ],
      "execution_count": 9,
      "metadata": {
        "jupyter": {
          "source_hidden": false,
          "outputs_hidden": false
        },
        "nteract": {
          "transient": {
            "deleting": false
          }
        },
        "gather": {
          "logged": 1722785051406
        }
      }
    },
    {
      "cell_type": "code",
      "source": [
        "#Variable info\n",
        "print(df_test.info())"
      ],
      "outputs": [
        {
          "output_type": "stream",
          "name": "stdout",
          "text": "<class 'pandas.core.frame.DataFrame'>\nRangeIndex: 151655 entries, 0 to 151654\nData columns (total 25 columns):\n #   Column                   Non-Null Count   Dtype \n---  ------                   --------------   ----- \n 0   UserID                   151655 non-null  object\n 1   basket_icon_click        151655 non-null  int64 \n 2   basket_add_list          151655 non-null  int64 \n 3   basket_add_detail        151655 non-null  int64 \n 4   sort_by                  151655 non-null  int64 \n 5   image_picker             151655 non-null  int64 \n 6   account_page_click       151655 non-null  int64 \n 7   promo_banner_click       151655 non-null  int64 \n 8   detail_wishlist_add      151655 non-null  int64 \n 9   list_size_dropdown       151655 non-null  int64 \n 10  closed_minibasket_click  151655 non-null  int64 \n 11  checked_delivery_detail  151655 non-null  int64 \n 12  checked_returns_detail   151655 non-null  int64 \n 13  sign_in                  151655 non-null  int64 \n 14  saw_checkout             151655 non-null  int64 \n 15  saw_sizecharts           151655 non-null  int64 \n 16  saw_delivery             151655 non-null  int64 \n 17  saw_account_upgrade      151655 non-null  int64 \n 18  saw_homepage             151655 non-null  int64 \n 19  device_mobile            151655 non-null  int64 \n 20  device_computer          151655 non-null  int64 \n 21  device_tablet            151655 non-null  int64 \n 22  returning_user           151655 non-null  int64 \n 23  loc_uk                   151655 non-null  int64 \n 24  ordered                  151655 non-null  int64 \ndtypes: int64(24), object(1)\nmemory usage: 28.9+ MB\nNone\n"
        }
      ],
      "execution_count": 10,
      "metadata": {
        "jupyter": {
          "source_hidden": false,
          "outputs_hidden": false
        },
        "nteract": {
          "transient": {
            "deleting": false
          }
        },
        "gather": {
          "logged": 1722785064602
        }
      }
    },
    {
      "cell_type": "code",
      "source": [],
      "outputs": [],
      "execution_count": null,
      "metadata": {
        "jupyter": {
          "source_hidden": false,
          "outputs_hidden": false
        },
        "nteract": {
          "transient": {
            "deleting": false
          }
        }
      }
    },
    {
      "cell_type": "code",
      "source": [],
      "outputs": [],
      "execution_count": null,
      "metadata": {
        "jupyter": {
          "source_hidden": false,
          "outputs_hidden": false
        },
        "nteract": {
          "transient": {
            "deleting": false
          }
        }
      }
    },
    {
      "cell_type": "code",
      "source": [],
      "outputs": [],
      "execution_count": null,
      "metadata": {
        "jupyter": {
          "source_hidden": false,
          "outputs_hidden": false
        },
        "nteract": {
          "transient": {
            "deleting": false
          }
        }
      }
    },
    {
      "cell_type": "code",
      "source": [],
      "outputs": [],
      "execution_count": null,
      "metadata": {
        "jupyter": {
          "source_hidden": false,
          "outputs_hidden": false
        },
        "nteract": {
          "transient": {
            "deleting": false
          }
        }
      }
    }
  ],
  "metadata": {
    "kernel_info": {
      "name": "python38-azureml"
    },
    "kernelspec": {
      "name": "python38-azureml",
      "language": "python",
      "display_name": "Python 3.8 - AzureML"
    },
    "language_info": {
      "name": "python",
      "version": "3.9.19",
      "mimetype": "text/x-python",
      "codemirror_mode": {
        "name": "ipython",
        "version": 3
      },
      "pygments_lexer": "ipython3",
      "nbconvert_exporter": "python",
      "file_extension": ".py"
    },
    "microsoft": {
      "host": {
        "AzureML": {
          "notebookHasBeenCompleted": true
        }
      },
      "ms_spell_check": {
        "ms_spell_check_language": "en"
      }
    },
    "nteract": {
      "version": "nteract-front-end@1.0.0"
    }
  },
  "nbformat": 4,
  "nbformat_minor": 2
}